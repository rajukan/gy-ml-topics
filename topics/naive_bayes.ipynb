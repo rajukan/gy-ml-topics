{
 "cells": [
  {
   "cell_type": "code",
   "id": "initial_id",
   "metadata": {
    "collapsed": true,
    "ExecuteTime": {
     "end_time": "2025-05-13T18:17:35.294772Z",
     "start_time": "2025-05-13T18:17:35.267814Z"
    }
   },
   "source": [
    "# Packages for Naive Bayes\n",
    "%matplotlib inline\n",
    "import numpy as np\n",
    "import scipy as sp\n",
    "import matplotlib as mpl\n",
    "import matplotlib.cm as cm\n",
    "import matplotlib.pyplot as plt\n",
    "import pandas as pd\n",
    "import seaborn as sns\n",
    "from six.moves import range\n",
    "\n",
    "# Setup Pandas\n",
    "pd.set_option('display.width', 500)\n",
    "pd.set_option('display.max_columns', 100)\n",
    "pd.set_option('display.notebook_repr_html', True)\n",
    "\n",
    "# Setup Seaborn\n",
    "sns.set_style(\"whitegrid\")\n",
    "sns.set_context(\"poster\")"
   ],
   "outputs": [],
   "execution_count": 1
  },
  {
   "metadata": {
    "ExecuteTime": {
     "end_time": "2025-05-13T18:18:40.130688Z",
     "start_time": "2025-05-13T18:18:40.032632Z"
    }
   },
   "cell_type": "code",
   "source": "critics  = pd.read_csv('./datasets/critics.csv')",
   "id": "f5a1e23b202e3343",
   "outputs": [],
   "execution_count": 2
  },
  {
   "metadata": {
    "ExecuteTime": {
     "end_time": "2025-05-13T18:19:52.606179Z",
     "start_time": "2025-05-13T18:19:52.590880Z"
    }
   },
   "cell_type": "code",
   "source": [
    "critics = critics[~critics.quote.isnull()]\n",
    "critics.head()"
   ],
   "id": "3e51179b764405d0",
   "outputs": [
    {
     "data": {
      "text/plain": [
       "               critic  fresh    imdb     publication                                              quote review_date  rtid      title\n",
       "1         Derek Adams  fresh  114709        Time Out  So ingenious in concept, design and execution ...  2009-10-04  9559  Toy story\n",
       "2     Richard Corliss  fresh  114709   TIME Magazine                  The year's most inventive comedy.  2008-08-31  9559  Toy story\n",
       "3         David Ansen  fresh  114709        Newsweek  A winning animated feature that has something ...  2008-08-18  9559  Toy story\n",
       "4       Leonard Klady  fresh  114709         Variety  The film sports a provocative and appealing st...  2008-06-09  9559  Toy story\n",
       "5  Jonathan Rosenbaum  fresh  114709  Chicago Reader  An entertaining computer-generated, hyperreali...  2008-03-10  9559  Toy story"
      ],
      "text/html": [
       "<div>\n",
       "<style scoped>\n",
       "    .dataframe tbody tr th:only-of-type {\n",
       "        vertical-align: middle;\n",
       "    }\n",
       "\n",
       "    .dataframe tbody tr th {\n",
       "        vertical-align: top;\n",
       "    }\n",
       "\n",
       "    .dataframe thead th {\n",
       "        text-align: right;\n",
       "    }\n",
       "</style>\n",
       "<table border=\"1\" class=\"dataframe\">\n",
       "  <thead>\n",
       "    <tr style=\"text-align: right;\">\n",
       "      <th></th>\n",
       "      <th>critic</th>\n",
       "      <th>fresh</th>\n",
       "      <th>imdb</th>\n",
       "      <th>publication</th>\n",
       "      <th>quote</th>\n",
       "      <th>review_date</th>\n",
       "      <th>rtid</th>\n",
       "      <th>title</th>\n",
       "    </tr>\n",
       "  </thead>\n",
       "  <tbody>\n",
       "    <tr>\n",
       "      <th>1</th>\n",
       "      <td>Derek Adams</td>\n",
       "      <td>fresh</td>\n",
       "      <td>114709</td>\n",
       "      <td>Time Out</td>\n",
       "      <td>So ingenious in concept, design and execution ...</td>\n",
       "      <td>2009-10-04</td>\n",
       "      <td>9559</td>\n",
       "      <td>Toy story</td>\n",
       "    </tr>\n",
       "    <tr>\n",
       "      <th>2</th>\n",
       "      <td>Richard Corliss</td>\n",
       "      <td>fresh</td>\n",
       "      <td>114709</td>\n",
       "      <td>TIME Magazine</td>\n",
       "      <td>The year's most inventive comedy.</td>\n",
       "      <td>2008-08-31</td>\n",
       "      <td>9559</td>\n",
       "      <td>Toy story</td>\n",
       "    </tr>\n",
       "    <tr>\n",
       "      <th>3</th>\n",
       "      <td>David Ansen</td>\n",
       "      <td>fresh</td>\n",
       "      <td>114709</td>\n",
       "      <td>Newsweek</td>\n",
       "      <td>A winning animated feature that has something ...</td>\n",
       "      <td>2008-08-18</td>\n",
       "      <td>9559</td>\n",
       "      <td>Toy story</td>\n",
       "    </tr>\n",
       "    <tr>\n",
       "      <th>4</th>\n",
       "      <td>Leonard Klady</td>\n",
       "      <td>fresh</td>\n",
       "      <td>114709</td>\n",
       "      <td>Variety</td>\n",
       "      <td>The film sports a provocative and appealing st...</td>\n",
       "      <td>2008-06-09</td>\n",
       "      <td>9559</td>\n",
       "      <td>Toy story</td>\n",
       "    </tr>\n",
       "    <tr>\n",
       "      <th>5</th>\n",
       "      <td>Jonathan Rosenbaum</td>\n",
       "      <td>fresh</td>\n",
       "      <td>114709</td>\n",
       "      <td>Chicago Reader</td>\n",
       "      <td>An entertaining computer-generated, hyperreali...</td>\n",
       "      <td>2008-03-10</td>\n",
       "      <td>9559</td>\n",
       "      <td>Toy story</td>\n",
       "    </tr>\n",
       "  </tbody>\n",
       "</table>\n",
       "</div>"
      ]
     },
     "execution_count": 4,
     "metadata": {},
     "output_type": "execute_result"
    }
   ],
   "execution_count": 4
  },
  {
   "metadata": {
    "ExecuteTime": {
     "end_time": "2025-05-13T18:21:53.019866Z",
     "start_time": "2025-05-13T18:21:53.008769Z"
    }
   },
   "cell_type": "code",
   "source": [
    "n_reviews  = len(critics)\n",
    "n_movies = critics.rtid.unique().size\n",
    "n_critics =critics.critic.unique().size\n",
    "print(f\"{n_reviews=}\")\n",
    "print(f\"{n_movies=}\")\n",
    "print(f\"{n_critics=}\")"
   ],
   "id": "5643bcfc52e49411",
   "outputs": [
    {
     "name": "stdout",
     "output_type": "stream",
     "text": [
      "n_reviews=15561\n",
      "n_movies=1921\n",
      "n_critics=623\n"
     ]
    }
   ],
   "execution_count": 5
  },
  {
   "metadata": {
    "ExecuteTime": {
     "end_time": "2025-05-13T18:30:21.988456Z",
     "start_time": "2025-05-13T18:30:21.969982Z"
    }
   },
   "cell_type": "code",
   "source": [
    "df=critics.copy()\n",
    "print(df.shape)\n",
    "df['fresh'] = df.fresh == 'fresh'\n",
    "grp = df.groupby('critic')\n",
    "counts = grp.critic.count()\n",
    "means = grp.fresh.mean()\n",
    "\n",
    "print(f\"{counts=}\")\n",
    "print(f\"{means=}\")"
   ],
   "id": "e0fa7d733b3b8ae8",
   "outputs": [
    {
     "name": "stdout",
     "output_type": "stream",
     "text": [
      "(15561, 8)\n",
      "counts=critic\n",
      "A.D. Murphy           13\n",
      "A.H. Weiler           17\n",
      "A.O. Scott            19\n",
      "Aaron Hillis           2\n",
      "Abel Green             5\n",
      "                      ..\n",
      "Wesley Morris         15\n",
      "Whitney Willaims       4\n",
      "Whittaker Chambers     3\n",
      "William Brogdon        4\n",
      "William Goss           3\n",
      "Name: critic, Length: 622, dtype: int64\n",
      "means=critic\n",
      "A.D. Murphy           1.000000\n",
      "A.H. Weiler           0.705882\n",
      "A.O. Scott            0.368421\n",
      "Aaron Hillis          1.000000\n",
      "Abel Green            1.000000\n",
      "                        ...   \n",
      "Wesley Morris         0.333333\n",
      "Whitney Willaims      0.750000\n",
      "Whittaker Chambers    1.000000\n",
      "William Brogdon       1.000000\n",
      "William Goss          0.666667\n",
      "Name: fresh, Length: 622, dtype: float64\n"
     ]
    }
   ],
   "execution_count": 7
  },
  {
   "metadata": {
    "ExecuteTime": {
     "end_time": "2025-05-13T18:31:43.156332Z",
     "start_time": "2025-05-13T18:31:43.147166Z"
    }
   },
   "cell_type": "code",
   "source": [
    "x = grp.fresh.mean()\n",
    "x.mean()"
   ],
   "id": "af671bad77ad7256",
   "outputs": [
    {
     "data": {
      "text/plain": [
       "np.float64(0.5973196238943221)"
      ]
     },
     "execution_count": 8,
     "metadata": {},
     "output_type": "execute_result"
    }
   ],
   "execution_count": 8
  },
  {
   "metadata": {},
   "cell_type": "code",
   "outputs": [],
   "execution_count": null,
   "source": "",
   "id": "680267ab74c0652"
  },
  {
   "metadata": {},
   "cell_type": "code",
   "outputs": [],
   "execution_count": null,
   "source": "",
   "id": "c3a91c22a555c3fd"
  }
 ],
 "metadata": {
  "kernelspec": {
   "display_name": "Python 3",
   "language": "python",
   "name": "python3"
  },
  "language_info": {
   "codemirror_mode": {
    "name": "ipython",
    "version": 2
   },
   "file_extension": ".py",
   "mimetype": "text/x-python",
   "name": "python",
   "nbconvert_exporter": "python",
   "pygments_lexer": "ipython2",
   "version": "2.7.6"
  }
 },
 "nbformat": 4,
 "nbformat_minor": 5
}
